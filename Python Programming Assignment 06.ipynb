{
 "cells": [
  {
   "cell_type": "markdown",
   "metadata": {},
   "source": [
    "## Python Programming Assignment 04"
   ]
  },
  {
   "cell_type": "markdown",
   "metadata": {},
   "source": [
    "## Print Statments"
   ]
  },
  {
   "cell_type": "markdown",
   "metadata": {},
   "source": [
    "**In Python, a print statement is used to display output on the screen. It's a built-in function that allows you to print text, variables, or expressions to the console.**"
   ]
  },
  {
   "cell_type": "code",
   "execution_count": 10,
   "metadata": {},
   "outputs": [
    {
     "name": "stdout",
     "output_type": "stream",
     "text": [
      "Hello, World!\n",
      "The sum of 2 and 3 is 5\n",
      "Hello, World!\n",
      "The length of the string is 13\n",
      "Hello, World!Hello, World!Hello, World!Hello, World!Hello, World!\n"
     ]
    }
   ],
   "source": [
    "## Example of print statement\n",
    "\n",
    "print(\"Hello, World!\") # This will print \"Hello, World!\" on the console.\n",
    "\n",
    "print(\"The sum of 2 and 3 is\", 2 + 3) # This will print \"The sum of 2 and 3 is 5\" on the console.\n",
    "\n",
    "my_variable = \"Hello, World!\" # Assigning a string to a variable\n",
    "\n",
    "print(my_variable) # This will print \"Hello, World!\" on the console.\n",
    "\n",
    "print(\"The length of the string is\", len(my_variable)) # This will print \"The length of the string is 13\" on the console.\n",
    "\n",
    "print(\"Hello, World!\" * 5) # This will print \"Hello, World!Hello, World!Hello, World!Hello, World!Hello, World!\" on the console.\n"
   ]
  },
  {
   "cell_type": "markdown",
   "metadata": {},
   "source": [
    "## Strings"
   ]
  },
  {
   "cell_type": "markdown",
   "metadata": {},
   "source": [
    "**What is a String in Python?**<br>\n",
    "\n",
    "In Python, a string is a sequence of characters enclosed within single quotes (' '), double quotes (\" \"), triple single quotes (''' '''), or triple double quotes (\"\"\" \"\"\"). Strings are used to represent text, such as words, sentences, or any other character sequences."
   ]
  },
  {
   "cell_type": "code",
   "execution_count": 14,
   "metadata": {},
   "outputs": [
    {
     "name": "stdout",
     "output_type": "stream",
     "text": [
      "Hello, World!\n",
      "Hello, World!\n",
      "Hello, World!\n",
      "Hello, World!\n",
      "Hello, World! Hello, World!\n",
      "Hello, World!Hello, World!Hello, World!\n",
      "Rehman Ismail Muhammad Ismail 20 Diploma-CIT 2207029\n"
     ]
    }
   ],
   "source": [
    "## Making the string examples\n",
    "\n",
    "string1 = 'Hello, World!' # Single quotes\n",
    "\n",
    "string2 = \"Hello, World!\" # Double quotes\n",
    "\n",
    "string3 = '''Hello, World!''' # Triple single quotes\n",
    "\n",
    "string4 = \"\"\"Hello, World!\"\"\" # Triple double quotes\n",
    "\n",
    "print(string1) # Output: Hello, World!\n",
    "\n",
    "print(string2) # Output: Hello, World!\n",
    "\n",
    "print(string3) # Output: Hello, World!\n",
    "\n",
    "print(string4) # Output: Hello, World!\n",
    "\n",
    "## Concatenation\n",
    "\n",
    "string5 = string1 + \" \" + string2 # Concatenation using + operator\n",
    "\n",
    "print(string5) # Output: Hello, World! Hello, World!\n",
    "\n",
    "string6 = string1 * 3 # Concatenation using * operator\n",
    "\n",
    "print(string6) # Output: Hello, World!Hello, World!Hello, World!\n",
    "\n",
    "## My information\n",
    "\n",
    "name = \"Rehman Ismail\"\n",
    "\n",
    "father_name = \"Muhammad Ismail\"\n",
    "\n",
    "age = 20\n",
    "\n",
    "rollno = 2207029\n",
    "\n",
    "education = \"Diploma-CIT\"\n",
    "print(name,father_name, age, education, rollno)"
   ]
  },
  {
   "cell_type": "markdown",
   "metadata": {},
   "source": [
    "## f-Strings"
   ]
  },
  {
   "cell_type": "markdown",
   "metadata": {},
   "source": [
    "**f-Strings, introduced in Python 3.6, are a way to format strings in Python. They provide a concise and readable way to embed expressions inside string literals, using curly braces {}. The expressions are evaluated at runtime, and the results are inserted into the string where the placeholders appear.**"
   ]
  },
  {
   "cell_type": "code",
   "execution_count": 2,
   "metadata": {},
   "outputs": [
    {
     "name": "stdout",
     "output_type": "stream",
     "text": [
      "My name is Alice and I am 30 years old.\n",
      "My name is Rehman Ismail and my father's name is Muhammad Ismail. I am 20 years old and I have Diploma CIT.\n"
     ]
    }
   ],
   "source": [
    "name = \"Alice\"\n",
    "age = 30\n",
    "formatted_string = f\"My name is {name} and I am {age} years old.\"\n",
    "print(formatted_string)\n",
    "\n",
    "## making the function of my_information using f-string\n",
    "\n",
    "def my_information(name: str, fname: str, age: int, education: str):\n",
    "    return f\"My name is {name} and my father's name is {fname}. I am {age} years old and I have {education}.\"\n",
    "\n",
    "print(my_information(\"Rehman Ismail\", \"Muhammad Ismail\", 20, \"Diploma CIT\"))\n"
   ]
  },
  {
   "cell_type": "markdown",
   "metadata": {},
   "source": [
    "## Operators"
   ]
  },
  {
   "cell_type": "markdown",
   "metadata": {},
   "source": [
    "**In Python, operators are special symbols or keywords that are used to perform operations on variables and values. Operators are the backbone of any programming language, enabling you to manipulate data and variables to perform tasks such as arithmetic calculations, comparisons, logical operations, and more.**"
   ]
  },
  {
   "cell_type": "markdown",
   "metadata": {},
   "source": [
    "**1. Arithmetic Operators**\n",
    "\n",
    "- `+` : **Addition**  \n",
    "  Adds two numbers together.\n",
    "\n",
    "- `-` : **Subtraction**  \n",
    "  Subtracts the second number from the first.\n",
    "\n",
    "- `*` : **Multiplication**  \n",
    "  Multiplies two numbers together.\n",
    "\n",
    "- `/` : **Division**  \n",
    "  Divides the first number by the second and returns a float.\n",
    "\n",
    "- `//` : **Floor Division**  \n",
    "  Divides the first number by the second and returns an integer (the floor of the division).\n",
    "\n",
    "- `%` : **Modulus**  \n",
    "  Returns the remainder of the division of the first number by the second.\n",
    "\n",
    "- `**` : **Exponentiation**  \n",
    "  Raises a number to the power of another.\n"
   ]
  },
  {
   "cell_type": "code",
   "execution_count": 3,
   "metadata": {},
   "outputs": [
    {
     "name": "stdout",
     "output_type": "stream",
     "text": [
      "13\n",
      "7\n",
      "30\n",
      "3.3333333333333335\n",
      "3\n",
      "1\n",
      "1000\n"
     ]
    }
   ],
   "source": [
    "a = 10\n",
    "b = 3\n",
    "\n",
    "print(a + b)    \n",
    "print(a - b)    \n",
    "print(a * b)    \n",
    "print(a / b)    \n",
    "print(a // b)   \n",
    "print(a % b)    \n",
    "print(a ** b)  \n"
   ]
  },
  {
   "cell_type": "markdown",
   "metadata": {},
   "source": [
    "**2. Comparison Operators**\n",
    "\n",
    "- `==` : **Equal to**\n",
    "  Compares two values and returns True if they are equal, otherwise False.\n",
    "- `!=` : **Not Equal to**\n",
    "  Compares two values and returns True if they are not equal, otherwise False.\n",
    "- `<` : **Less than**\n",
    "  Compares two values and returns True if the first value is less than the second, otherwise False.\n",
    "- `<=` : **Less than or Equal to**\n",
    "  Compares two values and returns True if the first value is less than or equal to the second, otherwise False.\n",
    "- `>` : **Greater than**\n",
    "  Compares two values and returns True if the first value is greater than the second, otherwise False.\n",
    "- `>=` : **Greater than or Equal to**\n",
    "  Compares two values and returns True if the first value is greater than or equal to the second, otherwise False."
   ]
  },
  {
   "cell_type": "code",
   "execution_count": 4,
   "metadata": {},
   "outputs": [
    {
     "name": "stdout",
     "output_type": "stream",
     "text": [
      "False\n",
      "True\n",
      "False\n",
      "True\n",
      "False\n",
      "True\n"
     ]
    }
   ],
   "source": [
    "a = 10\n",
    "b = 20\n",
    "\n",
    "print(a == b)   # Output: False\n",
    "print(a != b)   # Output: True\n",
    "print(a > b)    # Output: False\n",
    "print(a < b)    # Output: True\n",
    "print(a >= b)   # Output: False\n",
    "print(a <= b)   # Output: True\n"
   ]
  },
  {
   "cell_type": "markdown",
   "metadata": {},
   "source": [
    "**3. Logical Operators**\n",
    "\n",
    "- `and` : **Logical AND**\n",
    "  Returns True if both operands are True, otherwise False.\n",
    "- `or` : **Logical OR**\n",
    "  Returns True if either operand is True, otherwise False.\n",
    "- `not` : **Logical NOT**\n",
    "  Reverses the boolean value of the operand."
   ]
  },
  {
   "cell_type": "code",
   "execution_count": 5,
   "metadata": {},
   "outputs": [
    {
     "name": "stdout",
     "output_type": "stream",
     "text": [
      "False\n",
      "True\n",
      "False\n"
     ]
    }
   ],
   "source": [
    "a = True\n",
    "b = False\n",
    "\n",
    "print(a and b)  # Output: False\n",
    "print(a or b)   # Output: True\n",
    "print(not a)    # Output: False\n"
   ]
  },
  {
   "cell_type": "markdown",
   "metadata": {},
   "source": [
    "**4. Assignment Operators**\n",
    "\n",
    "- `=` : Assign\n",
    "- `+=` : Add and assign\n",
    "- `-=` : Subtract and assign\n",
    "- `*=` : Multiply and assign\n",
    "- `/=` : Divide and assign\n",
    "- `//=` : Floor divide and assign\n",
    "- `%=` : Modulus and assign\n",
    "- `**=` : Exponentiate and assign\n",
    "\n"
   ]
  },
  {
   "cell_type": "code",
   "execution_count": 6,
   "metadata": {},
   "outputs": [
    {
     "name": "stdout",
     "output_type": "stream",
     "text": [
      "8\n",
      "16\n",
      "15\n",
      "5.0\n",
      "2.0\n",
      "2.0\n",
      "4.0\n"
     ]
    }
   ],
   "source": [
    "a = 5\n",
    "\n",
    "a += 3   # Equivalent to: a = a + 3\n",
    "print(a)  # Output: 8\n",
    "\n",
    "a *= 2   # Equivalent to: a = a * 2\n",
    "print(a)  # Output: 16\n",
    "\n",
    "a -= 1   # Equivalent to: a = a - 1\n",
    "print(a)  # Output: 15\n",
    "\n",
    "a /= 3   # Equivalent to: a = a / 3\n",
    "print(a)  # Output: 5.0\n",
    "\n",
    "a //= 2  # Equivalent to: a = a // 2\n",
    "print(a)  # Output: 2\n",
    "\n",
    "a %= 3  # Equivalent to: a = a % 3\n",
    "print(a)  # Output: 1\n",
    "\n",
    "a **= 2  # Equivalent to: a = a ** 2\n",
    "print(a)  # Output: 4"
   ]
  },
  {
   "cell_type": "markdown",
   "metadata": {},
   "source": [
    "**6. Membership Operators**\n",
    "\n",
    "- **in** : Returns `True` if a sequence with the specified value is present in the object.\n",
    "- **not in** : Returns `True` if a sequence with the specified value is not present in the object.\n",
    "\n"
   ]
  },
  {
   "cell_type": "code",
   "execution_count": 7,
   "metadata": {},
   "outputs": [
    {
     "name": "stdout",
     "output_type": "stream",
     "text": [
      "True\n",
      "True\n"
     ]
    }
   ],
   "source": [
    "a = [1, 2, 3, 4, 5]\n",
    "\n",
    "print(3 in a)      # Output: True\n",
    "print(10 not in a) # Output: True\n"
   ]
  },
  {
   "cell_type": "markdown",
   "metadata": {},
   "source": [
    "**7. Identity Operators**\n",
    "\n",
    "- **`is`** : Returns `True` if both variables are the same object.\n",
    "- **`is not`** : Returns `True` if both variables are not the same object.\n"
   ]
  },
  {
   "cell_type": "code",
   "execution_count": 8,
   "metadata": {},
   "outputs": [
    {
     "name": "stdout",
     "output_type": "stream",
     "text": [
      "True\n",
      "False\n",
      "True\n"
     ]
    }
   ],
   "source": [
    "a = [1, 2, 3]\n",
    "b = a\n",
    "c = [1, 2, 3]\n",
    "\n",
    "print(a is b)      # Output: True (b points to the same object as a)\n",
    "print(a is c)      # Output: False (c is a different object, even though it has the same content)\n",
    "print(a is not c)  # Output: True\n"
   ]
  },
  {
   "cell_type": "markdown",
   "metadata": {},
   "source": [
    "## Lists"
   ]
  },
  {
   "cell_type": "markdown",
   "metadata": {},
   "source": [
    "**In Python, a list is a built-in data structure that allows you to store multiple items in a single variable. Lists are ordered, mutable (meaning you can change their content), and can contain elements of different data types, including other lists. Lists are defined by placing the items (elements) inside square brackets [], separated by commas.**"
   ]
  },
  {
   "cell_type": "code",
   "execution_count": 21,
   "metadata": {},
   "outputs": [
    {
     "name": "stdout",
     "output_type": "stream",
     "text": [
      "['apple', 'banana', 'cherry']\n",
      "apple\n",
      "cherry\n",
      "['apple', 'banana', 'Mango']\n",
      "['apple', 'banana', 'Mango', 'orange']\n",
      "['apple', 'grape', 'banana', 'Mango', 'orange']\n",
      "['apple', 'grape', 'Mango', 'orange']\n",
      "orange\n",
      "3\n",
      "[]\n",
      "['Apple']\n",
      "['Apple', 'Banana']\n"
     ]
    }
   ],
   "source": [
    "fruits = ['apple', 'banana', 'cherry']\n",
    "print(fruits)  # Output: ['apple', 'banana', 'cherry']\n",
    "\n",
    "print(fruits[0])  # Output: apple\n",
    "print(fruits[2])  # Output: cherry\n",
    "\n",
    "\n",
    "fruits[2] = \"Mango\"\n",
    "print(fruits)\n",
    "\n",
    "fruits.append(\"orange\")\n",
    "print(fruits)\n",
    "\n",
    "fruits.insert(1, \"grape\")\n",
    "print(fruits)\n",
    "\n",
    "fruits.remove(\"banana\")\n",
    "print(fruits)\n",
    "\n",
    "print(fruits.pop())\n",
    "print(len(fruits))\n",
    "\n",
    "## Making the empty list\n",
    "\n",
    "empty_list = []\n",
    "print(empty_list)\n",
    "\n",
    "empty_list.append(\"Apple\")\n",
    "print(empty_list)\n",
    "empty_list.append(\"Banana\")\n",
    "print(empty_list)"
   ]
  },
  {
   "cell_type": "markdown",
   "metadata": {},
   "source": [
    "## Tuples"
   ]
  },
  {
   "cell_type": "markdown",
   "metadata": {},
   "source": [
    "**In Python, a tuple is an immutable sequence type, meaning that once it is created, its elements cannot be changed, added, or removed. Tuples are similar to lists, but with the key difference that tuples are immutable.**"
   ]
  },
  {
   "cell_type": "code",
   "execution_count": 28,
   "metadata": {},
   "outputs": [
    {
     "name": "stdout",
     "output_type": "stream",
     "text": [
      "(1, 2, 3)\n",
      "1\n",
      "3\n",
      "(3, 4, 5)\n",
      "('Rehman Ismail', 277182)\n",
      "('Muhammad Ismail', 277182)\n",
      "('John Doe', 277182)\n"
     ]
    }
   ],
   "source": [
    "# Creating a tuple\n",
    "my_tuple = (1, 2, 3)\n",
    "print(my_tuple)  # Output: (1, 2, 3)\n",
    "\n",
    "# Accessing elements of a tuple\n",
    "\n",
    "print(my_tuple[0])  # Output: 1\n",
    "print(my_tuple[2])  # Output: 3\n",
    "\n",
    "## nested tuple\n",
    "\n",
    "nested_tuple = (1, 2, (3, 4, 5))\n",
    "print(nested_tuple[2])  # Output: (3, 4, 5)\n",
    "\n",
    "## List of tuples\n",
    "my_information: list[tuple[str, str]] = [\n",
    "                                        (\"Rehman Ismail\",277182),\n",
    "                                        (\"Muhammad Ismail\",277182),\n",
    "                                        (\"John Doe\",277182)\n",
    "                                        ]\n",
    "for i in my_information:\n",
    "    print(i)"
   ]
  },
  {
   "cell_type": "markdown",
   "metadata": {},
   "source": [
    "## For loops"
   ]
  },
  {
   "cell_type": "markdown",
   "metadata": {},
   "source": [
    "**A for loop in Python is used to iterate over a sequence (such as a list, tuple, dictionary, set, or string) and execute a block of code multiple times. The loop continues until it has gone through every item in the sequence.**"
   ]
  },
  {
   "cell_type": "code",
   "execution_count": 47,
   "metadata": {},
   "outputs": [
    {
     "name": "stdout",
     "output_type": "stream",
     "text": [
      "1\n",
      "2\n",
      "3\n",
      "4\n",
      "5\n",
      "_________________\n",
      "0\n",
      "1\n",
      "2\n",
      "3\n",
      "4\n",
      "_________________\n",
      "1\n",
      "2\n",
      "3\n",
      "4\n",
      "5\n",
      "_________________\n",
      "1\n",
      "3\n",
      "5\n",
      "7\n",
      "9\n",
      "_________________\n",
      "apple\n",
      "banana\n",
      "cherry\n",
      "_________________\n",
      "Index: 0, Fruit: apple\n",
      "Index: 1, Fruit: banana\n",
      "Index: 2, Fruit: cherry\n",
      "_________________\n",
      "Name: Rehman Ismail\n",
      "Father Name: Muhammad Ismail\n",
      "Education: Diploma CIT\n",
      "2 X 1 = 2\n",
      "2 X 2 = 4\n",
      "2 X 3 = 6\n",
      "2 X 4 = 8\n",
      "2 X 5 = 10\n",
      "2 X 6 = 12\n",
      "2 X 7 = 14\n",
      "2 X 8 = 16\n",
      "2 X 9 = 18\n",
      "2 X 10 = 20\n"
     ]
    }
   ],
   "source": [
    "## Making the For loops\n",
    "\n",
    "numbers = [1, 2, 3, 4, 5]\n",
    "\n",
    "for number in numbers:\n",
    "    print(number)\n",
    "print(\"_________________\")\n",
    "\n",
    "## Using range() function\n",
    "\n",
    "for i in range(5):\n",
    "    print(i)\n",
    "print(\"_________________\")\n",
    "## Using a range() function with start and stop values\n",
    "\n",
    "for i in range(1, 6):\n",
    "    print(i)\n",
    "\n",
    "## Using a range() function with step value\n",
    "print(\"_________________\")\n",
    "for i in range(1, 11, 2):\n",
    "    print(i)\n",
    "\n",
    "## Fruits Lists\n",
    "print(\"_________________\")\n",
    "fruits = ['apple', 'banana', 'cherry']\n",
    "for fruit in fruits:\n",
    "    print(fruit)\n",
    "\n",
    "## Show the fruits list with index and value\n",
    "print(\"_________________\")\n",
    "for i, fruit in enumerate(fruits):\n",
    "    print(f\"Index: {i}, Fruit: {fruit}\")\n",
    "\n",
    "\n",
    "## Make Dictionary\n",
    "print(\"_________________\")\n",
    "student_grades = {\"Name\": \"Rehman Ismail\", \"Father Name\": \"Muhammad Ismail\", \"Education\": \"Diploma CIT\"}\n",
    "for student, grade in student_grades.items():\n",
    "    print(f\"{student}: {grade}\")\n",
    "    \n",
    "## Make the two_table using for loop\n",
    "\n",
    "two_table = range(1,11)\n",
    "\n",
    "for i in two_table:\n",
    "    print(f\"2 X {i} = {i*2}\")\n"
   ]
  },
  {
   "cell_type": "markdown",
   "metadata": {},
   "source": [
    "## Input Handling"
   ]
  },
  {
   "cell_type": "markdown",
   "metadata": {},
   "source": [
    "**Input handling in Python refers to how a program receives and processes input from the user or other external sources (like files, sensors, etc.). Handling input is a critical part of programming because it allows your program to interact with users and adapt its behavior based on the data it receives.**"
   ]
  },
  {
   "cell_type": "code",
   "execution_count": 50,
   "metadata": {},
   "outputs": [
    {
     "name": "stdout",
     "output_type": "stream",
     "text": [
      "Hello, Rehman Ismail!\n",
      "You are 20 years old.\n",
      "Sum of the numbers: 44\n"
     ]
    }
   ],
   "source": [
    "# Taking a string input\n",
    "name = input(\"Enter your name: \")\n",
    "print(f\"Hello, {name}!\")\n",
    "\n",
    "# Taking an integer input\n",
    "age = int(input(\"Enter your age: \"))\n",
    "print(f\"You are {age} years old.\")\n",
    "\n",
    "# Taking multiple inputs in one line\n",
    "x, y = input(\"Enter two numbers separated by space: \").split()\n",
    "x = int(x)\n",
    "y = int(y)\n",
    "print(f\"Sum of the numbers: {x + y}\")\n"
   ]
  },
  {
   "cell_type": "markdown",
   "metadata": {},
   "source": [
    "# Functions"
   ]
  },
  {
   "cell_type": "markdown",
   "metadata": {},
   "source": [
    "**A Python function is a reusable block of code that performs a specific task. It is defined using the def keyword, followed by the function name, parentheses (), and a colon :. Inside the parentheses, you can define parameters (optional), which allow the function to accept input values. The function body contains the code that defines what the function does. You can also use the return statement to return a value from the function (optional).**"
   ]
  },
  {
   "cell_type": "code",
   "execution_count": 2,
   "metadata": {},
   "outputs": [
    {
     "name": "stdout",
     "output_type": "stream",
     "text": [
      "Sum of 67 and 23 is: 90\n"
     ]
    }
   ],
   "source": [
    "## Make the function of sum of two numbers\n",
    "\n",
    "def sum_of_two_numbers(num1: int, num2: int):\n",
    "    return num1 + num2\n",
    "\n",
    "# Call the function\n",
    "\n",
    "num1: int = int(input(\"Enter your fisrt number\"))\n",
    "num2: int = int(input(\"Enter your second number\"))\n",
    "\n",
    "result = sum_of_two_numbers(num1, num2)\n",
    "\n",
    "print(f\"Sum of {num1} and {num2} is: {result}\")"
   ]
  },
  {
   "cell_type": "code",
   "execution_count": 4,
   "metadata": {},
   "outputs": [
    {
     "name": "stdout",
     "output_type": "stream",
     "text": [
      "'Name: Rehman Ismail, Age: 21, Education: Diploma CIT'\n"
     ]
    }
   ],
   "source": [
    "import pprint\n",
    "\n",
    "## making the function of my information\n",
    "\n",
    "def my_information(name: str, age: int, education: str) -> str:\n",
    "    return f\"Name: {name}, Age: {age}, Education: {education}\"\n",
    "\n",
    "# Call the function\n",
    "\n",
    "name: str = input(\"Enter your name: \")\n",
    "age: int = int(input(\"Enter your age: \"))\n",
    "education: str = input(\"Enter your education: \")\n",
    "\n",
    "result = my_information(name, age, education)\n",
    "pprint.pprint(result)"
   ]
  },
  {
   "cell_type": "code",
   "execution_count": 10,
   "metadata": {},
   "outputs": [
    {
     "name": "stdout",
     "output_type": "stream",
     "text": [
      "Name: Rehman Ismail\n",
      "Age: 20\n",
      "Education: Diploma CIT\n"
     ]
    }
   ],
   "source": [
    "## Make the function of my details and using for loop\n",
    "\n",
    "def my_information(details: dict):\n",
    "    for student, info in details.items():\n",
    "        print(f\"{student}: {info}\")\n",
    "\n",
    "# Call the function\n",
    "\n",
    "result = my_information({\"Name\":\"Rehman Ismail\",\"Age\":20,\"Education\":\"Diploma CIT\"})"
   ]
  },
  {
   "cell_type": "code",
   "execution_count": 20,
   "metadata": {},
   "outputs": [
    {
     "name": "stdout",
     "output_type": "stream",
     "text": [
      "['Cold Drink, Pizza, Movie']\n"
     ]
    }
   ],
   "source": [
    "## Make the function of todo list\n",
    "\n",
    "def todo_list(todos: list = None):\n",
    "    if todos is None:\n",
    "        todos = []\n",
    "    todo: str = input(\"Enter your todo: \")\n",
    "    todos.append(todo)\n",
    "    return todos\n",
    "\n",
    "# Call the function\n",
    "result = todo_list()\n",
    "print(result)\n"
   ]
  },
  {
   "cell_type": "code",
   "execution_count": 1,
   "metadata": {},
   "outputs": [
    {
     "name": "stdout",
     "output_type": "stream",
     "text": [
      "The factorial of 6 is: 720\n"
     ]
    }
   ],
   "source": [
    "## make the function of factorial\n",
    "def factorial(n):\n",
    "    if n == 0:\n",
    "        return 1\n",
    "    else:\n",
    "        return n * factorial(n-1)\n",
    "\n",
    "# Call the function\n",
    "\n",
    "number = int(input(\"Enter a number: \"))\n",
    "result = factorial(number)\n",
    "print(f\"The factorial of {number} is: {result}\")"
   ]
  },
  {
   "cell_type": "code",
   "execution_count": 26,
   "metadata": {},
   "outputs": [
    {
     "name": "stdout",
     "output_type": "stream",
     "text": [
      "26 is Even.\n"
     ]
    }
   ],
   "source": [
    "## Make the function of even or odd number\n",
    "\n",
    "def check_even_odd(number: int):\n",
    "    if number % 2 == 0:\n",
    "        return \"Even\"\n",
    "    else:\n",
    "        return \"Odd\"\n",
    "\n",
    "# Call the function\n",
    "\n",
    "number = int(input(\"Enter a number: \"))\n",
    "result = check_even_odd(number)\n",
    "print(f\"{number} is {result}.\")"
   ]
  },
  {
   "cell_type": "code",
   "execution_count": 7,
   "metadata": {},
   "outputs": [
    {
     "name": "stdout",
     "output_type": "stream",
     "text": [
      "2 X 1 = 2\n",
      "2 X 2 = 4\n",
      "2 X 3 = 6\n",
      "2 X 4 = 8\n",
      "2 X 5 = 10\n",
      "2 X 6 = 12\n",
      "2 X 7 = 14\n",
      "2 X 8 = 16\n",
      "2 X 9 = 18\n",
      "2 X 10 = 20\n"
     ]
    }
   ],
   "source": [
    "## Make the function of two table\n",
    "\n",
    "def two_table(start: int, end: int):\n",
    "    for i in range(start,end):\n",
    "        print(f\"2 X {i} = {i*2}\")\n",
    "    \n",
    "# Call the function\n",
    "\n",
    "start = int(input(\"Enter the start number: \"))\n",
    "end = int(input(\"Enter the end number: \"))\n",
    "two_table(start, end)"
   ]
  },
  {
   "cell_type": "code",
   "execution_count": 8,
   "metadata": {},
   "outputs": [
    {
     "name": "stdout",
     "output_type": "stream",
     "text": [
      "Login successful!\n"
     ]
    }
   ],
   "source": [
    "## Make the function of Login System\n",
    "\n",
    "def login_system():\n",
    "    username = input(\"Enter your username: \")\n",
    "    password = input(\"Enter your password: \")\n",
    "    \n",
    "    if username == \"admin\" and password == \"password\":\n",
    "        print(\"Login successful!\")\n",
    "        return True\n",
    "    else:\n",
    "        print(\"Invalid username or password!\")\n",
    "        return False\n",
    "\n",
    "is_logged_in = login_system()"
   ]
  },
  {
   "cell_type": "markdown",
   "metadata": {},
   "source": [
    "## Conditional Statements"
   ]
  },
  {
   "cell_type": "markdown",
   "metadata": {},
   "source": [
    "**1-if-Statement**<br>\n",
    "**2-elif-Statement**<br>\n",
    "**3-else-Statement**<br>"
   ]
  },
  {
   "cell_type": "code",
   "execution_count": 11,
   "metadata": {},
   "outputs": [
    {
     "name": "stdout",
     "output_type": "stream",
     "text": [
      "35 is greater than 10 and 23.\n"
     ]
    }
   ],
   "source": [
    "num1: int = 10\n",
    "num2: int = 23\n",
    "num3: int = 35\n",
    "\n",
    "if num1 > num2:\n",
    "    print(f\"{num1} is greater than {num2}.\")\n",
    "\n",
    "elif num1 > num3:\n",
    "    print(f\"{num1} is greater than {num3}.\")\n",
    "\n",
    "else:\n",
    "    print(f\"{num3} is greater than {num1} and {num2}.\")"
   ]
  },
  {
   "cell_type": "code",
   "execution_count": 12,
   "metadata": {},
   "outputs": [
    {
     "name": "stdout",
     "output_type": "stream",
     "text": [
      "The fruits length is not equal to 0\n"
     ]
    }
   ],
   "source": [
    "## make the fruits list using if statement\n",
    "\n",
    "fruits = ['apple', 'banana', 'cherry']\n",
    "\n",
    "if len(fruits) == 0:\n",
    "    print(\"The fruits length is equal to 0\")\n",
    "else:\n",
    "    print(\"The fruits length is not equal to 0\")"
   ]
  },
  {
   "cell_type": "code",
   "execution_count": 14,
   "metadata": {},
   "outputs": [
    {
     "name": "stdout",
     "output_type": "stream",
     "text": [
      "The car is Cultus.\n"
     ]
    }
   ],
   "source": [
    "cars_names: list[str] = [\"Mehran\",\"Corolla\",\"Cultus\"]\n",
    "\n",
    "if cars_names[2] == \"Cultus\":\n",
    "    print(\"The car is Cultus.\")\n",
    "else:\n",
    "    print(\"The car is not Cultus.\")"
   ]
  },
  {
   "cell_type": "code",
   "execution_count": 15,
   "metadata": {},
   "outputs": [
    {
     "name": "stdout",
     "output_type": "stream",
     "text": [
      "Your grade is B\n"
     ]
    }
   ],
   "source": [
    "## Making the system of score and grades\n",
    "\n",
    "score: int = 85\n",
    "\n",
    "if score >= 90:\n",
    "    grade = \"A\"\n",
    "elif score >= 80:\n",
    "    grade = \"B\"\n",
    "elif score >= 70:\n",
    "    grade = \"C\"\n",
    "elif score >= 60:\n",
    "    grade = \"D\"\n",
    "elif score >= 50:\n",
    "    grade = \"F\"\n",
    "else:\n",
    "    grade = \"Invalid score\"\n",
    "\n",
    "print(f\"Your grade is {grade}\")"
   ]
  },
  {
   "cell_type": "code",
   "execution_count": 16,
   "metadata": {},
   "outputs": [
    {
     "name": "stdout",
     "output_type": "stream",
     "text": [
      "Grapes is in the fruits list.\n"
     ]
    }
   ],
   "source": [
    "fruits_list: list[str] = [\"Apple\",\"Mango\",\"Grapes\"]\n",
    "find_fruit = input(\"Enter a fruit\")\n",
    "\n",
    "if find_fruit in fruits_list:\n",
    "    print(f\"{find_fruit} is in the fruits list.\")\n",
    "else:\n",
    "    print(f\"{find_fruit} is not in the fruits list.\")"
   ]
  },
  {
   "cell_type": "code",
   "execution_count": 17,
   "metadata": {},
   "outputs": [
    {
     "name": "stdout",
     "output_type": "stream",
     "text": [
      "Yes length of rollno is ages length\n"
     ]
    }
   ],
   "source": [
    "rollno: list[int] = [12,34,56,12]\n",
    "ages: list[int] = [21,22,23,24]\n",
    "\n",
    "if len(rollno) is len(ages):\n",
    "    print(\"Yes length of rollno is ages length\")\n",
    "else:\n",
    "    print(\"No length of rollno is not ages length\")"
   ]
  }
 ],
 "metadata": {
  "kernelspec": {
   "display_name": "base",
   "language": "python",
   "name": "python3"
  },
  "language_info": {
   "codemirror_mode": {
    "name": "ipython",
    "version": 3
   },
   "file_extension": ".py",
   "mimetype": "text/x-python",
   "name": "python",
   "nbconvert_exporter": "python",
   "pygments_lexer": "ipython3",
   "version": "3.11.5"
  }
 },
 "nbformat": 4,
 "nbformat_minor": 2
}
